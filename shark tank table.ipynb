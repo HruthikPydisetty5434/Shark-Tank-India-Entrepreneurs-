{
 "cells": [
  {
   "cell_type": "code",
   "execution_count": 1,
   "id": "903d899e",
   "metadata": {},
   "outputs": [],
   "source": [
    "import os\n",
    "os.chdir('F:\\\\scarping')"
   ]
  },
  {
   "cell_type": "code",
   "execution_count": 2,
   "id": "c9e9bf0c",
   "metadata": {},
   "outputs": [],
   "source": [
    "from selenium import webdriver\n",
    "from bs4 import BeautifulSoup \n",
    "import pandas as pd"
   ]
  },
  {
   "cell_type": "code",
   "execution_count": 3,
   "id": "a301ac4b",
   "metadata": {},
   "outputs": [
    {
     "data": {
      "text/plain": [
       "<selenium.webdriver.firefox.webdriver.WebDriver (session=\"99d238d7-a3ce-4afd-840d-c8f5bfb9b988\")>"
      ]
     },
     "execution_count": 3,
     "metadata": {},
     "output_type": "execute_result"
    }
   ],
   "source": [
    "browser = webdriver.Firefox()\n",
    "browser"
   ]
  },
  {
   "cell_type": "code",
   "execution_count": 4,
   "id": "83b5f84f",
   "metadata": {},
   "outputs": [],
   "source": [
    "url = 'https://www.serialupdates.me/shark-tank-india-investors-names-sony-tv-new-show-entrepreneurs-list/'\n",
    "browser.get(url)"
   ]
  },
  {
   "cell_type": "code",
   "execution_count": 5,
   "id": "1fb221b4",
   "metadata": {},
   "outputs": [],
   "source": [
    "html = browser.page_source"
   ]
  },
  {
   "cell_type": "code",
   "execution_count": 6,
   "id": "1a908dfe",
   "metadata": {},
   "outputs": [],
   "source": [
    "soup = BeautifulSoup(html, 'html.parser')"
   ]
  },
  {
   "cell_type": "code",
   "execution_count": 7,
   "id": "c5175ce7",
   "metadata": {},
   "outputs": [
    {
     "data": {
      "text/plain": [
       "['Sr No.',\n",
       " 'Entrepreneur Name',\n",
       " 'From',\n",
       " 'Business',\n",
       " 'Deal',\n",
       " 'Original Ask',\n",
       " 'Final Offer',\n",
       " 'Investors']"
      ]
     },
     "execution_count": 7,
     "metadata": {},
     "output_type": "execute_result"
    }
   ],
   "source": [
    "Top = [i.text.strip() for i in soup.select('figure.wp-block-table.is-style-stripes')[1].find_all('th')]\n",
    "Top"
   ]
  },
  {
   "cell_type": "code",
   "execution_count": 8,
   "id": "ca6084f1",
   "metadata": {},
   "outputs": [
    {
     "data": {
      "text/plain": [
       "'1Aditi Madan (Momo Mami)DarjeelingMomos(BluePine Foods)Deal₹50 lakhs5% Equity₹75 lakhs 16% EquityAshneer, Aman, Vineeta'"
      ]
     },
     "execution_count": 8,
     "metadata": {},
     "output_type": "execute_result"
    }
   ],
   "source": [
    "soup.select('figure.wp-block-table.is-style-stripes')[1].tbody.find_all('tr')[0].text.strip()"
   ]
  },
  {
   "cell_type": "code",
   "execution_count": 9,
   "id": "737a7236",
   "metadata": {},
   "outputs": [],
   "source": [
    "data = []\n",
    "for r in soup.select('figure.wp-block-table.is-style-stripes')[1].tbody.find_all('tr'):\n",
    "    data.append([i for i in r.find_all('td')])"
   ]
  },
  {
   "cell_type": "code",
   "execution_count": 10,
   "id": "b7d14ea3",
   "metadata": {},
   "outputs": [],
   "source": [
    "def SharkTank():\n",
    "    Top = [i.text.strip() for i in soup.select('figure.wp-block-table.is-style-stripes')[1].find_all('th')]\n",
    "    data = []\n",
    "    for r in soup.select('figure.wp-block-table.is-style-stripes')[1].tbody.find_all('tr'):\n",
    "        data.append([i.text.strip() for i in r.find_all('td')])\n",
    "    df = pd.DataFrame(data)\n",
    "    df.columns = Top\n",
    "    return df"
   ]
  },
  {
   "cell_type": "code",
   "execution_count": 14,
   "id": "45651845",
   "metadata": {},
   "outputs": [
    {
     "data": {
      "text/html": [
       "<div>\n",
       "<style scoped>\n",
       "    .dataframe tbody tr th:only-of-type {\n",
       "        vertical-align: middle;\n",
       "    }\n",
       "\n",
       "    .dataframe tbody tr th {\n",
       "        vertical-align: top;\n",
       "    }\n",
       "\n",
       "    .dataframe thead th {\n",
       "        text-align: right;\n",
       "    }\n",
       "</style>\n",
       "<table border=\"1\" class=\"dataframe\">\n",
       "  <thead>\n",
       "    <tr style=\"text-align: right;\">\n",
       "      <th></th>\n",
       "      <th>Sr No.</th>\n",
       "      <th>Entrepreneur Name</th>\n",
       "      <th>From</th>\n",
       "      <th>Business</th>\n",
       "      <th>Deal</th>\n",
       "      <th>Original Ask</th>\n",
       "      <th>Final Offer</th>\n",
       "      <th>Investors</th>\n",
       "    </tr>\n",
       "  </thead>\n",
       "  <tbody>\n",
       "    <tr>\n",
       "      <th>0</th>\n",
       "      <td>1</td>\n",
       "      <td>Aditi Madan (Momo Mami)</td>\n",
       "      <td>Darjeeling</td>\n",
       "      <td>Momos(BluePine Foods)</td>\n",
       "      <td>Deal</td>\n",
       "      <td>₹50 lakhs5% Equity</td>\n",
       "      <td>₹75 lakhs 16% Equity</td>\n",
       "      <td>Ashneer, Aman, Vineeta</td>\n",
       "    </tr>\n",
       "    <tr>\n",
       "      <th>1</th>\n",
       "      <td>2</td>\n",
       "      <td>Rutvij Dasadia</td>\n",
       "      <td>Ahmedabad</td>\n",
       "      <td>Electric Scooters (Booz)</td>\n",
       "      <td>Deal</td>\n",
       "      <td>₹40 lakhs15% Equity</td>\n",
       "      <td>₹40 lakhs50% Equity</td>\n",
       "      <td>Ashneer, Vineeta</td>\n",
       "    </tr>\n",
       "    <tr>\n",
       "      <th>2</th>\n",
       "      <td>3</td>\n",
       "      <td>Riya Khattar</td>\n",
       "      <td>New Delhi</td>\n",
       "      <td>Outfit(Heart Up My Sleeves)</td>\n",
       "      <td>Deal</td>\n",
       "      <td>₹25 lakhs 10% Equity</td>\n",
       "      <td>₹25 lakhs30% Equity</td>\n",
       "      <td>Anupam, Vineeta</td>\n",
       "    </tr>\n",
       "    <tr>\n",
       "      <th>3</th>\n",
       "      <td>4</td>\n",
       "      <td>Anish and Sagar</td>\n",
       "      <td>Delhi</td>\n",
       "      <td>Popped Chips(Tagz Foods)</td>\n",
       "      <td>Deal</td>\n",
       "      <td>₹70 lakhs 1% Equity</td>\n",
       "      <td>₹70 lakhs  2.75% Equity</td>\n",
       "      <td>Ashneer</td>\n",
       "    </tr>\n",
       "    <tr>\n",
       "      <th>4</th>\n",
       "      <td>5</td>\n",
       "      <td>Singh Family</td>\n",
       "      <td>Punjab</td>\n",
       "      <td>Brain Training(Head and Heart)</td>\n",
       "      <td>No Deal</td>\n",
       "      <td>₹50 lakhs 5% Equity</td>\n",
       "      <td>No Offer</td>\n",
       "      <td>N/A</td>\n",
       "    </tr>\n",
       "    <tr>\n",
       "      <th>...</th>\n",
       "      <td>...</td>\n",
       "      <td>...</td>\n",
       "      <td>...</td>\n",
       "      <td>...</td>\n",
       "      <td>...</td>\n",
       "      <td>...</td>\n",
       "      <td>...</td>\n",
       "      <td>...</td>\n",
       "    </tr>\n",
       "    <tr>\n",
       "      <th>112</th>\n",
       "      <td>113</td>\n",
       "      <td>Madhavi and Satish Datwani</td>\n",
       "      <td>Mumbai</td>\n",
       "      <td>Plant-based Beverages(Green Protein)</td>\n",
       "      <td>No Deal</td>\n",
       "      <td>₹60 lakhs2% Equity</td>\n",
       "      <td>₹60 lakhs15% Equity</td>\n",
       "      <td>Aman, Vineeta, Ghazal</td>\n",
       "    </tr>\n",
       "    <tr>\n",
       "      <th>113</th>\n",
       "      <td>114</td>\n",
       "      <td>Sanandan Sudhir</td>\n",
       "      <td>Ahmedabad</td>\n",
       "      <td>Smart Cooking Device (On2Cook)</td>\n",
       "      <td>No Deal</td>\n",
       "      <td>₹1 crore1% Equity</td>\n",
       "      <td>No Offer</td>\n",
       "      <td>N/A</td>\n",
       "    </tr>\n",
       "    <tr>\n",
       "      <th>114</th>\n",
       "      <td>115</td>\n",
       "      <td>Supreet, Manish, Rupali</td>\n",
       "      <td>Mumbai</td>\n",
       "      <td>Washroom Finder App(Woloo)</td>\n",
       "      <td>No Deal</td>\n",
       "      <td>₹50 lakhs4% Equity</td>\n",
       "      <td>₹25 lakhs10% Equity₹25 lakhsDebt</td>\n",
       "      <td>Namita</td>\n",
       "    </tr>\n",
       "    <tr>\n",
       "      <th>115</th>\n",
       "      <td>116</td>\n",
       "      <td>Anubhav Jain</td>\n",
       "      <td>Modinagar</td>\n",
       "      <td>Lemon Shikanji(Jain Shikanji)</td>\n",
       "      <td>Deal</td>\n",
       "      <td>₹40 lakhs8% Equity</td>\n",
       "      <td>₹40 lakhs30% Equity</td>\n",
       "      <td>Aman, Anupam, Ashneer, Vineeta</td>\n",
       "    </tr>\n",
       "    <tr>\n",
       "      <th>116</th>\n",
       "      <td>117</td>\n",
       "      <td>Pankaj, Aashna, Suresh</td>\n",
       "      <td>Gurugram</td>\n",
       "      <td>Carenting for Elders(Elcare)</td>\n",
       "      <td>No Deal</td>\n",
       "      <td>₹1 crore2.5% Equity</td>\n",
       "      <td>No Offer</td>\n",
       "      <td>N/A</td>\n",
       "    </tr>\n",
       "  </tbody>\n",
       "</table>\n",
       "<p>117 rows × 8 columns</p>\n",
       "</div>"
      ],
      "text/plain": [
       "    Sr No.           Entrepreneur Name        From  \\\n",
       "0        1     Aditi Madan (Momo Mami)  Darjeeling   \n",
       "1        2              Rutvij Dasadia   Ahmedabad   \n",
       "2        3                Riya Khattar   New Delhi   \n",
       "3        4             Anish and Sagar       Delhi   \n",
       "4        5                Singh Family      Punjab   \n",
       "..     ...                         ...         ...   \n",
       "112    113  Madhavi and Satish Datwani      Mumbai   \n",
       "113    114             Sanandan Sudhir   Ahmedabad   \n",
       "114    115     Supreet, Manish, Rupali      Mumbai   \n",
       "115    116                Anubhav Jain   Modinagar   \n",
       "116    117      Pankaj, Aashna, Suresh    Gurugram   \n",
       "\n",
       "                                 Business     Deal          Original Ask  \\\n",
       "0                   Momos(BluePine Foods)     Deal    ₹50 lakhs5% Equity   \n",
       "1                Electric Scooters (Booz)     Deal   ₹40 lakhs15% Equity   \n",
       "2             Outfit(Heart Up My Sleeves)     Deal  ₹25 lakhs 10% Equity   \n",
       "3                Popped Chips(Tagz Foods)     Deal   ₹70 lakhs 1% Equity   \n",
       "4          Brain Training(Head and Heart)  No Deal   ₹50 lakhs 5% Equity   \n",
       "..                                    ...      ...                   ...   \n",
       "112  Plant-based Beverages(Green Protein)  No Deal    ₹60 lakhs2% Equity   \n",
       "113        Smart Cooking Device (On2Cook)  No Deal     ₹1 crore1% Equity   \n",
       "114            Washroom Finder App(Woloo)  No Deal    ₹50 lakhs4% Equity   \n",
       "115         Lemon Shikanji(Jain Shikanji)     Deal    ₹40 lakhs8% Equity   \n",
       "116          Carenting for Elders(Elcare)  No Deal   ₹1 crore2.5% Equity   \n",
       "\n",
       "                          Final Offer                       Investors  \n",
       "0                ₹75 lakhs 16% Equity          Ashneer, Aman, Vineeta  \n",
       "1                 ₹40 lakhs50% Equity                Ashneer, Vineeta  \n",
       "2                 ₹25 lakhs30% Equity                 Anupam, Vineeta  \n",
       "3             ₹70 lakhs  2.75% Equity                         Ashneer  \n",
       "4                            No Offer                             N/A  \n",
       "..                                ...                             ...  \n",
       "112               ₹60 lakhs15% Equity           Aman, Vineeta, Ghazal  \n",
       "113                          No Offer                             N/A  \n",
       "114  ₹25 lakhs10% Equity₹25 lakhsDebt                          Namita  \n",
       "115               ₹40 lakhs30% Equity  Aman, Anupam, Ashneer, Vineeta  \n",
       "116                          No Offer                             N/A  \n",
       "\n",
       "[117 rows x 8 columns]"
      ]
     },
     "execution_count": 14,
     "metadata": {},
     "output_type": "execute_result"
    }
   ],
   "source": [
    "SharkTank()"
   ]
  },
  {
   "cell_type": "code",
   "execution_count": 15,
   "id": "7c33dc6c",
   "metadata": {},
   "outputs": [],
   "source": [
    "df_1 = SharkTank()"
   ]
  },
  {
   "cell_type": "code",
   "execution_count": 16,
   "id": "86e140aa",
   "metadata": {},
   "outputs": [],
   "source": [
    "df_1.to_csv('Shark Tank India 2022.csv')"
   ]
  }
 ],
 "metadata": {
  "kernelspec": {
   "display_name": "Python 3 (ipykernel)",
   "language": "python",
   "name": "python3"
  },
  "language_info": {
   "codemirror_mode": {
    "name": "ipython",
    "version": 3
   },
   "file_extension": ".py",
   "mimetype": "text/x-python",
   "name": "python",
   "nbconvert_exporter": "python",
   "pygments_lexer": "ipython3",
   "version": "3.9.7"
  }
 },
 "nbformat": 4,
 "nbformat_minor": 5
}
